{
 "cells": [
  {
   "cell_type": "markdown",
   "id": "9a150bad-bd1b-4372-9a1f-375811b11c35",
   "metadata": {},
   "source": [
    "# GeoPandas"
   ]
  },
  {
   "cell_type": "code",
   "execution_count": 5,
   "id": "78bed2cb-d2de-45ea-a707-779aa2ab5af8",
   "metadata": {},
   "outputs": [],
   "source": [
    "import geopandas as gpd\n",
    "import pandas as pd"
   ]
  },
  {
   "cell_type": "code",
   "execution_count": 6,
   "id": "12614cef-92e3-4698-9980-8ad5db0d2914",
   "metadata": {},
   "outputs": [
    {
     "ename": "AttributeError",
     "evalue": "module 'geopandas' has no attribute 'get_path'",
     "output_type": "error",
     "traceback": [
      "\u001b[31m---------------------------------------------------------------------------\u001b[39m",
      "\u001b[31mAttributeError\u001b[39m                            Traceback (most recent call last)",
      "\u001b[36mCell\u001b[39m\u001b[36m \u001b[39m\u001b[32mIn[6]\u001b[39m\u001b[32m, line 1\u001b[39m\n\u001b[32m----> \u001b[39m\u001b[32m1\u001b[39m colombia = gpd.read_file(\u001b[43mgpd\u001b[49m\u001b[43m.\u001b[49m\u001b[43mget_path\u001b[49m(\u001b[33m'\u001b[39m\u001b[33mgeoda.malaria\u001b[39m\u001b[33m'\u001b[39m))\n",
      "\u001b[31mAttributeError\u001b[39m: module 'geopandas' has no attribute 'get_path'"
     ]
    }
   ],
   "source": [
    "colombia = gpd.read_file(gpd.get_path('geoda.malaria'))"
   ]
  },
  {
   "cell_type": "code",
   "execution_count": null,
   "id": "f5964315-fa8b-48b6-a94f-cd494699f2ce",
   "metadata": {},
   "outputs": [],
   "source": []
  }
 ],
 "metadata": {
  "kernelspec": {
   "display_name": "Python 3 (ipykernel)",
   "language": "python",
   "name": "python3"
  },
  "language_info": {
   "codemirror_mode": {
    "name": "ipython",
    "version": 3
   },
   "file_extension": ".py",
   "mimetype": "text/x-python",
   "name": "python",
   "nbconvert_exporter": "python",
   "pygments_lexer": "ipython3",
   "version": "3.13.3"
  }
 },
 "nbformat": 4,
 "nbformat_minor": 5
}
