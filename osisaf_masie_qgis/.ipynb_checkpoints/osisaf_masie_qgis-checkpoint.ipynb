{
 "cells": [
  {
   "cell_type": "code",
   "execution_count": 5,
   "id": "9c950e32-3514-4411-b6a9-8f5d8f1ccb7c",
   "metadata": {},
   "outputs": [
    {
     "name": "stdout",
     "output_type": "stream",
     "text": [
      "20201111\n",
      "550 Failed to open file.\n",
      "20201112\n",
      "550 Failed to open file.\n",
      "20201113\n",
      "550 Failed to open file.\n",
      "20201114\n",
      "550 Failed to open file.\n",
      "20201115\n",
      "550 Failed to open file.\n",
      "20201116\n",
      "550 Failed to open file.\n",
      "20201117\n",
      "550 Failed to open file.\n"
     ]
    }
   ],
   "source": [
    "import ftplib\n",
    "import os\n",
    "from pathlib import Path\n",
    "import pandas as pd\n",
    "\n",
    "\n",
    "def name_format(time:str, archive=True):\n",
    "    if archive:\n",
    "        return f'ice_conc_nh_ease2-250_cdr-v3p0_{time}1200.nc'\n",
    "    else:\n",
    "        return None\n",
    "\n",
    "def download(folder_to_save, file_name, ftp,  silent=False):\n",
    "    if not os.path.exists(folder_to_save):\n",
    "        os.makedirs(folder_to_save)\n",
    "    file = file_name\n",
    "    file_to_save = file_name\n",
    "\n",
    "    try:\n",
    "        if not os.path.isfile(f'{folder_to_save}/{file_to_save}'):\n",
    "            with open(Path(folder_to_save, file_to_save), 'wb') as newfile:\n",
    "                ftp.retrbinary('RETR %s' % file, newfile.write)\n",
    "                print(f'{file} downloaded')\n",
    "        else:\n",
    "            print(f'{file} already downloaded')\n",
    "    except Exception as e:\n",
    "        raise(e)\n",
    "        #if not silent:\n",
    "        #    print(e)\n",
    "        #os.remove(Path(folder_to_save, file_to_save))\n",
    "        return False\n",
    "    return True\n",
    "\n",
    "\n",
    "def download_pack(folder_to_save, start_day, end_day):\n",
    "    archive = True\n",
    "    dates = pd.date_range(start_day, end_day, freq='1D')\n",
    "    if archive:\n",
    "        dir = '/reprocessed/ice/conc/v3p0'\n",
    "    else:\n",
    "        dir = 'reprocessed/ice/conc-cont-reproc/v3p0'\n",
    "\n",
    "\n",
    "    for time in dates:\n",
    "        month = time.strftime('%m')\n",
    "        year = time.strftime('%Y')\n",
    "        time = time.strftime('%Y%m%d')\n",
    "        file = name_format(time, archive)\n",
    "        try:\n",
    "            if not os.path.exists(Path(folder_to_save, file)):\n",
    "                ftp = ftplib.FTP('osisaf.met.no')\n",
    "                ftp.login()\n",
    "                ftp.cwd(f'{dir}/{year}/{month}')\n",
    "                print(time)\n",
    "                is_downloaded = download(folder_to_save, time, ftp, silent=True)\n",
    "                ftp.quit()\n",
    "        except Exception as e:\n",
    "            print(e)\n",
    "            pass\n",
    "\n",
    "\n",
    "folder_to_save = 'src'\n",
    "download_pack(folder_to_save, '20201111', '20201117')"
   ]
  },
  {
   "cell_type": "code",
   "execution_count": null,
   "id": "fe58179c-cda3-441c-8c5d-c6cf9bfd7528",
   "metadata": {},
   "outputs": [],
   "source": []
  },
  {
   "cell_type": "code",
   "execution_count": null,
   "id": "5f97819b-904b-49e0-b969-8f35383bdd6a",
   "metadata": {},
   "outputs": [],
   "source": []
  }
 ],
 "metadata": {
  "kernelspec": {
   "display_name": "Python 3 (ipykernel)",
   "language": "python",
   "name": "python3"
  },
  "language_info": {
   "codemirror_mode": {
    "name": "ipython",
    "version": 3
   },
   "file_extension": ".py",
   "mimetype": "text/x-python",
   "name": "python",
   "nbconvert_exporter": "python",
   "pygments_lexer": "ipython3",
   "version": "3.13.3"
  }
 },
 "nbformat": 4,
 "nbformat_minor": 5
}
